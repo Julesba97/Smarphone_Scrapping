{
 "cells": [
  {
   "cell_type": "code",
   "execution_count": 1,
   "id": "3008c6e4",
   "metadata": {},
   "outputs": [],
   "source": [
    "from bs4 import BeautifulSoup\n",
    "import requests\n",
    "import re\n",
    "import pandas as pd"
   ]
  },
  {
   "cell_type": "code",
   "execution_count": 2,
   "id": "e290801a",
   "metadata": {},
   "outputs": [
    {
     "data": {
      "text/plain": [
       "8"
      ]
     },
     "execution_count": 2,
     "metadata": {},
     "output_type": "execute_result"
    }
   ],
   "source": [
    "def Number_page():\n",
    "    url = \"https://www.newegg.com/p/pl?d=xiaomi+12\"\n",
    "    page = requests.get(url).text\n",
    "    doc = BeautifulSoup(page, \"html.parser\")\n",
    "    page_text = doc.find(class_=\"list-tool-pagination-text\")\n",
    "    num_page = int(str(page_text).split(\"strong\")[1].split(\">\")[-1][0])\n",
    "    return num_page\n",
    "\n",
    "number_pages = Number_page()\n",
    "number_pages"
   ]
  },
  {
   "cell_type": "code",
   "execution_count": 4,
   "id": "2d499894",
   "metadata": {},
   "outputs": [],
   "source": [
    "def Extract(page):\n",
    "    url_page = f\"https://www.newegg.com/p/pl?d=xiaomi+12&page={page}\"\n",
    "    doc_soup = BeautifulSoup(requests.get(url_page).text, \"html.parser\")\n",
    "    return doc_soup"
   ]
  },
  {
   "cell_type": "code",
   "execution_count": 5,
   "id": "2a2822d2",
   "metadata": {},
   "outputs": [],
   "source": [
    "def TransormDataFrame():\n",
    "    columns = [\"description\", \"price\", \"link\"]\n",
    "    items_found = {column : [] for column in columns}\n",
    "    for page in range(1, number_pages):\n",
    "        doc_page = Extract(page)\n",
    "        div_container= doc_page.find(class_=\"item-cells-wrap border-cells items-grid-view four-cells expulsion-one-cell\")\n",
    "        items = div_container.find_all(string=re.compile(\"Xiaomi\"))\n",
    "        \n",
    "        for item in items:\n",
    "            list_item = []\n",
    "            parent = item.parent\n",
    "            if parent.name != \"a\":\n",
    "                continue\n",
    "            link = parent[\"href\"]\n",
    "            next_parent = parent.parent.parent\n",
    "            class_price = next_parent.find(class_=\"price-current\")\n",
    "            if class_price.strong == None :\n",
    "                continue\n",
    "            try :\n",
    "                price = int(class_price.strong.string)\n",
    "            except :\n",
    "                price = int(class_price.strong.string.replace(\",\", \"\"))\n",
    "            finally :\n",
    "                pass\n",
    "            list_item.append(item)\n",
    "            list_item.append(price)\n",
    "            list_item.append(link)\n",
    "            for column, row_item in zip(items_found.keys(),list_item) :\n",
    "                items_found[column].append(row_item)\n",
    "    return pd.DataFrame(items_found).sort_values(by=\"price\").set_index(\"description\")\n",
    "    "
   ]
  },
  {
   "cell_type": "code",
   "execution_count": 6,
   "id": "f3a218bc",
   "metadata": {},
   "outputs": [],
   "source": [
    "df = TransormDataFrame()"
   ]
  },
  {
   "cell_type": "code",
   "execution_count": 7,
   "id": "6c094c04",
   "metadata": {},
   "outputs": [
    {
     "data": {
      "text/html": [
       "<div>\n",
       "<style scoped>\n",
       "    .dataframe tbody tr th:only-of-type {\n",
       "        vertical-align: middle;\n",
       "    }\n",
       "\n",
       "    .dataframe tbody tr th {\n",
       "        vertical-align: top;\n",
       "    }\n",
       "\n",
       "    .dataframe thead th {\n",
       "        text-align: right;\n",
       "    }\n",
       "</style>\n",
       "<table border=\"1\" class=\"dataframe\">\n",
       "  <thead>\n",
       "    <tr style=\"text-align: right;\">\n",
       "      <th></th>\n",
       "      <th>price</th>\n",
       "      <th>link</th>\n",
       "    </tr>\n",
       "    <tr>\n",
       "      <th>description</th>\n",
       "      <th></th>\n",
       "      <th></th>\n",
       "    </tr>\n",
       "  </thead>\n",
       "  <tbody>\n",
       "    <tr>\n",
       "      <th>Xiaomi Redmi A2 Dual-SIM 32GB ROM + 2GB RAM (Only GSM | No CDMA) Factory Unlocked 4G/LTE Smartphone (Light Blue) - International Version</th>\n",
       "      <td>79</td>\n",
       "      <td>https://www.newegg.com/p/23B-00KF-00010</td>\n",
       "    </tr>\n",
       "    <tr>\n",
       "      <th>Xiaomi Redmi 9A Dual-SIM 32GB ROM + 2GB RAM (GSM Only | No CDMA) Factory Unlocked 4G/LTE Smartphone (Peacock Green) - International Version</th>\n",
       "      <td>101</td>\n",
       "      <td>https://www.newegg.com/xiaomi-6-53-gsm-hspa-lt...</td>\n",
       "    </tr>\n",
       "    <tr>\n",
       "      <th>Xiaomi Redmi 10 2022 Dual-SIM 64GB ROM + 4GB RAM (GSM | CDMA) Factory Unlocked 4G/LTE Smartphone (Carbon Gray) - International Version</th>\n",
       "      <td>109</td>\n",
       "      <td>https://www.newegg.com/p/23B-0016-00AJ1</td>\n",
       "    </tr>\n",
       "    <tr>\n",
       "      <th>Xiaomi Redmi 9A - Smartphone 2 GB + 32 GB, Dual Sim, Grigio (Granite Grey)</th>\n",
       "      <td>128</td>\n",
       "      <td>https://www.newegg.com/p/23B-0016-008K1</td>\n",
       "    </tr>\n",
       "    <tr>\n",
       "      <th>Xiaomi Redmi 9A 6.53? HD+ Dot Drop Display, Dual SIM GSM Unlocked US  and  Global 4G LTE (Global Version) (Ocean Green, 32GB) (MZB9961EU)</th>\n",
       "      <td>136</td>\n",
       "      <td>https://www.newegg.com/p/23B-0016-00705</td>\n",
       "    </tr>\n",
       "  </tbody>\n",
       "</table>\n",
       "</div>"
      ],
      "text/plain": [
       "                                                    price  \\\n",
       "description                                                 \n",
       "Xiaomi Redmi A2 Dual-SIM 32GB ROM + 2GB RAM (On...     79   \n",
       "Xiaomi Redmi 9A Dual-SIM 32GB ROM + 2GB RAM (GS...    101   \n",
       "Xiaomi Redmi 10 2022 Dual-SIM 64GB ROM + 4GB RA...    109   \n",
       "Xiaomi Redmi 9A - Smartphone 2 GB + 32 GB, Dual...    128   \n",
       "Xiaomi Redmi 9A 6.53? HD+ Dot Drop Display, Dua...    136   \n",
       "\n",
       "                                                                                                 link  \n",
       "description                                                                                            \n",
       "Xiaomi Redmi A2 Dual-SIM 32GB ROM + 2GB RAM (On...            https://www.newegg.com/p/23B-00KF-00010  \n",
       "Xiaomi Redmi 9A Dual-SIM 32GB ROM + 2GB RAM (GS...  https://www.newegg.com/xiaomi-6-53-gsm-hspa-lt...  \n",
       "Xiaomi Redmi 10 2022 Dual-SIM 64GB ROM + 4GB RA...            https://www.newegg.com/p/23B-0016-00AJ1  \n",
       "Xiaomi Redmi 9A - Smartphone 2 GB + 32 GB, Dual...            https://www.newegg.com/p/23B-0016-008K1  \n",
       "Xiaomi Redmi 9A 6.53? HD+ Dot Drop Display, Dua...            https://www.newegg.com/p/23B-0016-00705  "
      ]
     },
     "execution_count": 7,
     "metadata": {},
     "output_type": "execute_result"
    }
   ],
   "source": [
    "df.head()"
   ]
  },
  {
   "cell_type": "code",
   "execution_count": 10,
   "id": "0894c539",
   "metadata": {},
   "outputs": [
    {
     "data": {
      "text/plain": [
       "(248, 2)"
      ]
     },
     "execution_count": 10,
     "metadata": {},
     "output_type": "execute_result"
    }
   ],
   "source": [
    "df.shape"
   ]
  },
  {
   "cell_type": "code",
   "execution_count": 38,
   "id": "80a6fa78",
   "metadata": {},
   "outputs": [
    {
     "name": "stdout",
     "output_type": "stream",
     "text": [
      "https://www.newegg.com/xiaomi-6-53-gsm-hspa-lte-green/p/23B-0016-00782\n"
     ]
    }
   ],
   "source": [
    "print(df.link[1])"
   ]
  },
  {
   "cell_type": "code",
   "execution_count": 9,
   "id": "4373732b",
   "metadata": {},
   "outputs": [
    {
     "name": "stdout",
     "output_type": "stream",
     "text": [
      "<class 'pandas.core.frame.DataFrame'>\n",
      "Index: 248 entries, Xiaomi Redmi A2 Dual-SIM 32GB ROM + 2GB RAM (Only GSM | No CDMA) Factory Unlocked 4G/LTE Smartphone (Light Blue) - International Version to Xiaomi Mi 11 Ultra 6.81-inch 3200x1440P AMOLED Display 5G Smartphone 8GB 256GB 5000mAh Battery MIUI 12.5 - White\n",
      "Data columns (total 2 columns):\n",
      " #   Column  Non-Null Count  Dtype \n",
      "---  ------  --------------  ----- \n",
      " 0   price   248 non-null    int64 \n",
      " 1   link    248 non-null    object\n",
      "dtypes: int64(1), object(1)\n",
      "memory usage: 13.9+ KB\n"
     ]
    }
   ],
   "source": [
    "df.info()"
   ]
  },
  {
   "cell_type": "code",
   "execution_count": 18,
   "id": "9a5cea42",
   "metadata": {},
   "outputs": [
    {
     "name": "stdout",
     "output_type": "stream",
     "text": [
      "(29, 2)\n"
     ]
    }
   ],
   "source": [
    "df_Under300 = df[df.price <300]\n",
    "print(df_Under300.shape)"
   ]
  },
  {
   "cell_type": "code",
   "execution_count": 23,
   "id": "26bc849a",
   "metadata": {},
   "outputs": [
    {
     "data": {
      "text/html": [
       "<div>\n",
       "<style scoped>\n",
       "    .dataframe tbody tr th:only-of-type {\n",
       "        vertical-align: middle;\n",
       "    }\n",
       "\n",
       "    .dataframe tbody tr th {\n",
       "        vertical-align: top;\n",
       "    }\n",
       "\n",
       "    .dataframe thead th {\n",
       "        text-align: right;\n",
       "    }\n",
       "</style>\n",
       "<table border=\"1\" class=\"dataframe\">\n",
       "  <thead>\n",
       "    <tr style=\"text-align: right;\">\n",
       "      <th></th>\n",
       "      <th>price</th>\n",
       "      <th>link</th>\n",
       "    </tr>\n",
       "    <tr>\n",
       "      <th>description</th>\n",
       "      <th></th>\n",
       "      <th></th>\n",
       "    </tr>\n",
       "  </thead>\n",
       "  <tbody>\n",
       "    <tr>\n",
       "      <th>Xiaomi Redmi A2 Dual-SIM 32GB ROM + 2GB RAM (Only GSM | No CDMA) Factory Unlocked 4G/LTE Smartphone (Light Blue) - International Version</th>\n",
       "      <td>79</td>\n",
       "      <td>https://www.newegg.com/p/23B-00KF-00010</td>\n",
       "    </tr>\n",
       "    <tr>\n",
       "      <th>Xiaomi Redmi 9A Dual-SIM 32GB ROM + 2GB RAM (GSM Only | No CDMA) Factory Unlocked 4G/LTE Smartphone (Peacock Green) - International Version</th>\n",
       "      <td>101</td>\n",
       "      <td>https://www.newegg.com/xiaomi-6-53-gsm-hspa-lt...</td>\n",
       "    </tr>\n",
       "    <tr>\n",
       "      <th>Xiaomi Redmi 10 2022 Dual-SIM 64GB ROM + 4GB RAM (GSM | CDMA) Factory Unlocked 4G/LTE Smartphone (Carbon Gray) - International Version</th>\n",
       "      <td>109</td>\n",
       "      <td>https://www.newegg.com/p/23B-0016-00AJ1</td>\n",
       "    </tr>\n",
       "    <tr>\n",
       "      <th>Xiaomi Redmi 9A - Smartphone 2 GB + 32 GB, Dual Sim, Grigio (Granite Grey)</th>\n",
       "      <td>128</td>\n",
       "      <td>https://www.newegg.com/p/23B-0016-008K1</td>\n",
       "    </tr>\n",
       "    <tr>\n",
       "      <th>Xiaomi Redmi 9A 6.53? HD+ Dot Drop Display, Dual SIM GSM Unlocked US  and  Global 4G LTE (Global Version) (Ocean Green, 32GB) (MZB9961EU)</th>\n",
       "      <td>136</td>\n",
       "      <td>https://www.newegg.com/p/23B-0016-00705</td>\n",
       "    </tr>\n",
       "    <tr>\n",
       "      <th>Xiaomi Redmi Note 7 Dual-SIM 64GB ROM + 4GB RAM (GSM Only | No CDMA) Factory Unlocked 4G/LTE Smartphone (Neptune Blue) - International Version</th>\n",
       "      <td>159</td>\n",
       "      <td>https://www.newegg.com/xiaomi-6-3-gsm-hspa-lte...</td>\n",
       "    </tr>\n",
       "    <tr>\n",
       "      <th>Xiaomi Redmi A1 4G 32GB + 2GB Global Version Factory Unlocked 6.52\" 8MP Dual Camera (Not USA Market) + (w/Fast Car Charger Bundle + 64GB SD) (Black)</th>\n",
       "      <td>169</td>\n",
       "      <td>https://www.newegg.com/p/23B-00KF-00003</td>\n",
       "    </tr>\n",
       "    <tr>\n",
       "      <th>Xiaomi Redmi Note 11S Dual-SIM 128GB ROM + 6GB RAM (GSM Only | No CDMA) Factory Unlocked 4G/LTE Smartphone (Graphite Gray) - International Version</th>\n",
       "      <td>198</td>\n",
       "      <td>https://www.newegg.com/xiaomi-6-4-gsm-hspa-lte...</td>\n",
       "    </tr>\n",
       "    <tr>\n",
       "      <th>Xiaomi Redmi A2 Dual-SIM 32GB ROM + 2GB RAM (Only GSM | No CDMA) Factory Unlocked 4G/LTE Smartphone (Light Green) - International Version</th>\n",
       "      <td>225</td>\n",
       "      <td>https://www.newegg.com/p/23B-00KF-00011</td>\n",
       "    </tr>\n",
       "    <tr>\n",
       "      <th>Xiaomi Redmi 10A Dual-SIM 32GB ROM + 2GB RAM (GSM | CDMA) Factory Unlocked 4G/LTE Smartphone (Silver) - International Version</th>\n",
       "      <td>225</td>\n",
       "      <td>https://www.newegg.com/p/23B-0016-00AV0</td>\n",
       "    </tr>\n",
       "    <tr>\n",
       "      <th>Xiaomi Redmi Note 8 Pro Dual-SIM 64GB ROM + 6GB RAM (GSM Only | No CDMA) Factory Unlocked 4G/LTE Smartphone (Grey) - International Version</th>\n",
       "      <td>229</td>\n",
       "      <td>https://www.newegg.com/xiaomi-6-53-gsm-hspa-lt...</td>\n",
       "    </tr>\n",
       "    <tr>\n",
       "      <th>Xiaomi Redmi 9A Dual-SIM 32GB + 2GB RAM (GSM Only | No CDMA) Factory Unlocked 4G/LTE Smartphone (Grey) - International Version</th>\n",
       "      <td>245</td>\n",
       "      <td>https://www.newegg.com/xiaomi-6-53-gsm-hspa-lt...</td>\n",
       "    </tr>\n",
       "    <tr>\n",
       "      <th>Xiaomi Redmi 10A Dual-SIM 32GB ROM + 2GB RAM (GSM | CDMA) Factory Unlocked 4G/LTE Smartphone (Gray) - International Version</th>\n",
       "      <td>245</td>\n",
       "      <td>https://www.newegg.com/p/23B-0016-00B20</td>\n",
       "    </tr>\n",
       "    <tr>\n",
       "      <th>Xiaomi Redmi A2 Dual-SIM 32GB ROM + 2GB RAM (Only GSM | No CDMA) Factory Unlocked 4G/LTE Smartphone (Black) - International Version</th>\n",
       "      <td>245</td>\n",
       "      <td>https://www.newegg.com/p/23B-00KF-00006</td>\n",
       "    </tr>\n",
       "    <tr>\n",
       "      <th>Xiaomi Redmi A1 Dual-SIM 32GB ROM + 2GB RAM (Only GSM | No CDMA) Factory Unlocked 4G/LTE Smartphone (Light Blue) - International Version</th>\n",
       "      <td>245</td>\n",
       "      <td>https://www.newegg.com/p/23B-0016-00B74</td>\n",
       "    </tr>\n",
       "    <tr>\n",
       "      <th>Xiaomi Redmi A1 Dual-SIM 32GB ROM + 2GB RAM (Only GSM | No CDMA) Factory Unlocked 4G/LTE Smartphone (Black) - International Version</th>\n",
       "      <td>245</td>\n",
       "      <td>https://www.newegg.com/p/23B-0016-00B19</td>\n",
       "    </tr>\n",
       "    <tr>\n",
       "      <th>Xiaomi Redmi 10A Dual-SIM 32GB ROM + 2GB RAM (GSM | CDMA) Factory Unlocked 4G/LTE Smartphone (Sea Blue) - International Version</th>\n",
       "      <td>245</td>\n",
       "      <td>https://www.newegg.com/p/23B-0016-00B55</td>\n",
       "    </tr>\n",
       "    <tr>\n",
       "      <th>Xiaomi Redmi A1 Dual-SIM 32GB ROM + 2GB RAM (Only GSM | No CDMA) Factory Unlocked 4G/LTE Smartphone (Light Green) - International Version</th>\n",
       "      <td>245</td>\n",
       "      <td>https://www.newegg.com/p/23B-0016-00B54</td>\n",
       "    </tr>\n",
       "    <tr>\n",
       "      <th>Xiaomi Redmi Note 7 Dual-SIM 64GB ROM + 4GB RAM (GSM Only | No CDMA) Factory Unlocked 4G/LTE Smartphone (Black) - International Version</th>\n",
       "      <td>246</td>\n",
       "      <td>https://www.newegg.com/p/23B-0016-008D3</td>\n",
       "    </tr>\n",
       "    <tr>\n",
       "      <th>Xiaomi Redmi 9T Dual-SIM 64GB ROM + 4GB RAM (GSM Only | No CDMA) Factory Unlocked 4G/LTE Smartphone (Gray) - International Version</th>\n",
       "      <td>252</td>\n",
       "      <td>https://www.newegg.com/xiaomi-6-53-gsm-hspa-lt...</td>\n",
       "    </tr>\n",
       "    <tr>\n",
       "      <th>Xiaomi Redmi 9C Dual-SIM 64GB ROM + 3GB RAM (GSM Only | No CDMA) Factory Unlocked 4G/LTE Smartphone (Midnight Grey) - International Version</th>\n",
       "      <td>265</td>\n",
       "      <td>https://www.newegg.com/xiaomi-6-53-gsm-hspa-lt...</td>\n",
       "    </tr>\n",
       "    <tr>\n",
       "      <th>Xiaomi Poco X5 Pro Dual-SIM 128GB ROM + 6GB RAM (Only GSM | No CDMA) Factory Unlocked 5G Smartphone (Black) - International Version</th>\n",
       "      <td>274</td>\n",
       "      <td>https://www.newegg.com/mi-poco-6-67-5g-black/p...</td>\n",
       "    </tr>\n",
       "    <tr>\n",
       "      <th>Xiaomi Redmi A1+ Dual-SIM 32GB ROM + 2GB RAM (Only GSM | No CDMA) Factory Unlocked 4G/LTE Smartphone (Green) - International Version</th>\n",
       "      <td>279</td>\n",
       "      <td>https://www.newegg.com/p/23B-0016-00BK3</td>\n",
       "    </tr>\n",
       "    <tr>\n",
       "      <th>Xiaomi Redmi A1+ Dual-SIM 32GB ROM + 2GB RAM (Only GSM | No CDMA) Factory Unlocked 4G/LTE Smartphone (Black) - International Version</th>\n",
       "      <td>279</td>\n",
       "      <td>https://www.newegg.com/p/23B-0016-00BK2</td>\n",
       "    </tr>\n",
       "    <tr>\n",
       "      <th>Xiaomi Redmi Note 12 Pro Dual-SIM 256GB ROM + 8GB RAM (Only GSM | No CDMA) Factory Unlocked 5G Smartphone (Frosted Blue) - International Version</th>\n",
       "      <td>284</td>\n",
       "      <td>https://www.newegg.com/p/23B-0016-00BW9</td>\n",
       "    </tr>\n",
       "    <tr>\n",
       "      <th>Xiaomi Redmi Note 12 Pro Dual-SIM 256GB ROM + 8GB RAM (Only GSM | No CDMA) Factory Unlocked 5G Smartphone (Onyx Black) - International Version</th>\n",
       "      <td>284</td>\n",
       "      <td>https://www.newegg.com/p/23B-00KF-00033</td>\n",
       "    </tr>\n",
       "    <tr>\n",
       "      <th>Xiaomi Redmi Note 12 Pro Dual-SIM 256GB ROM + 8GB RAM (Only GSM | No CDMA) Factory Unlocked 5G Smartphone (White) - International Version</th>\n",
       "      <td>284</td>\n",
       "      <td>https://www.newegg.com/p/23B-0016-00BW8</td>\n",
       "    </tr>\n",
       "    <tr>\n",
       "      <th>Xiaomi Redmi Note 11 Pro Plus 6.67-inch 2400x1080P AMOLED Display 5G Smartphone 6GB 128GB 4500mAh Battery Android 11-Black</th>\n",
       "      <td>294</td>\n",
       "      <td>https://www.newegg.com/p/23B-0016-00A35</td>\n",
       "    </tr>\n",
       "    <tr>\n",
       "      <th>Xiaomi 13 Ultra Photography Kit By FedEx</th>\n",
       "      <td>298</td>\n",
       "      <td>https://www.newegg.com/p/23B-0016-00BY6</td>\n",
       "    </tr>\n",
       "  </tbody>\n",
       "</table>\n",
       "</div>"
      ],
      "text/plain": [
       "                                                    price  \\\n",
       "description                                                 \n",
       "Xiaomi Redmi A2 Dual-SIM 32GB ROM + 2GB RAM (On...     79   \n",
       "Xiaomi Redmi 9A Dual-SIM 32GB ROM + 2GB RAM (GS...    101   \n",
       "Xiaomi Redmi 10 2022 Dual-SIM 64GB ROM + 4GB RA...    109   \n",
       "Xiaomi Redmi 9A - Smartphone 2 GB + 32 GB, Dual...    128   \n",
       "Xiaomi Redmi 9A 6.53? HD+ Dot Drop Display, Dua...    136   \n",
       "Xiaomi Redmi Note 7 Dual-SIM 64GB ROM + 4GB RAM...    159   \n",
       "Xiaomi Redmi A1 4G 32GB + 2GB Global Version Fa...    169   \n",
       "Xiaomi Redmi Note 11S Dual-SIM 128GB ROM + 6GB ...    198   \n",
       "Xiaomi Redmi A2 Dual-SIM 32GB ROM + 2GB RAM (On...    225   \n",
       "Xiaomi Redmi 10A Dual-SIM 32GB ROM + 2GB RAM (G...    225   \n",
       "Xiaomi Redmi Note 8 Pro Dual-SIM 64GB ROM + 6GB...    229   \n",
       "Xiaomi Redmi 9A Dual-SIM 32GB + 2GB RAM (GSM On...    245   \n",
       "Xiaomi Redmi 10A Dual-SIM 32GB ROM + 2GB RAM (G...    245   \n",
       "Xiaomi Redmi A2 Dual-SIM 32GB ROM + 2GB RAM (On...    245   \n",
       "Xiaomi Redmi A1 Dual-SIM 32GB ROM + 2GB RAM (On...    245   \n",
       "Xiaomi Redmi A1 Dual-SIM 32GB ROM + 2GB RAM (On...    245   \n",
       "Xiaomi Redmi 10A Dual-SIM 32GB ROM + 2GB RAM (G...    245   \n",
       "Xiaomi Redmi A1 Dual-SIM 32GB ROM + 2GB RAM (On...    245   \n",
       "Xiaomi Redmi Note 7 Dual-SIM 64GB ROM + 4GB RAM...    246   \n",
       "Xiaomi Redmi 9T Dual-SIM 64GB ROM + 4GB RAM (GS...    252   \n",
       "Xiaomi Redmi 9C Dual-SIM 64GB ROM + 3GB RAM (GS...    265   \n",
       "Xiaomi Poco X5 Pro Dual-SIM 128GB ROM + 6GB RAM...    274   \n",
       "Xiaomi Redmi A1+ Dual-SIM 32GB ROM + 2GB RAM (O...    279   \n",
       "Xiaomi Redmi A1+ Dual-SIM 32GB ROM + 2GB RAM (O...    279   \n",
       "Xiaomi Redmi Note 12 Pro Dual-SIM 256GB ROM + 8...    284   \n",
       "Xiaomi Redmi Note 12 Pro Dual-SIM 256GB ROM + 8...    284   \n",
       "Xiaomi Redmi Note 12 Pro Dual-SIM 256GB ROM + 8...    284   \n",
       "Xiaomi Redmi Note 11 Pro Plus 6.67-inch 2400x10...    294   \n",
       "Xiaomi 13 Ultra Photography Kit By FedEx              298   \n",
       "\n",
       "                                                                                                 link  \n",
       "description                                                                                            \n",
       "Xiaomi Redmi A2 Dual-SIM 32GB ROM + 2GB RAM (On...            https://www.newegg.com/p/23B-00KF-00010  \n",
       "Xiaomi Redmi 9A Dual-SIM 32GB ROM + 2GB RAM (GS...  https://www.newegg.com/xiaomi-6-53-gsm-hspa-lt...  \n",
       "Xiaomi Redmi 10 2022 Dual-SIM 64GB ROM + 4GB RA...            https://www.newegg.com/p/23B-0016-00AJ1  \n",
       "Xiaomi Redmi 9A - Smartphone 2 GB + 32 GB, Dual...            https://www.newegg.com/p/23B-0016-008K1  \n",
       "Xiaomi Redmi 9A 6.53? HD+ Dot Drop Display, Dua...            https://www.newegg.com/p/23B-0016-00705  \n",
       "Xiaomi Redmi Note 7 Dual-SIM 64GB ROM + 4GB RAM...  https://www.newegg.com/xiaomi-6-3-gsm-hspa-lte...  \n",
       "Xiaomi Redmi A1 4G 32GB + 2GB Global Version Fa...            https://www.newegg.com/p/23B-00KF-00003  \n",
       "Xiaomi Redmi Note 11S Dual-SIM 128GB ROM + 6GB ...  https://www.newegg.com/xiaomi-6-4-gsm-hspa-lte...  \n",
       "Xiaomi Redmi A2 Dual-SIM 32GB ROM + 2GB RAM (On...            https://www.newegg.com/p/23B-00KF-00011  \n",
       "Xiaomi Redmi 10A Dual-SIM 32GB ROM + 2GB RAM (G...            https://www.newegg.com/p/23B-0016-00AV0  \n",
       "Xiaomi Redmi Note 8 Pro Dual-SIM 64GB ROM + 6GB...  https://www.newegg.com/xiaomi-6-53-gsm-hspa-lt...  \n",
       "Xiaomi Redmi 9A Dual-SIM 32GB + 2GB RAM (GSM On...  https://www.newegg.com/xiaomi-6-53-gsm-hspa-lt...  \n",
       "Xiaomi Redmi 10A Dual-SIM 32GB ROM + 2GB RAM (G...            https://www.newegg.com/p/23B-0016-00B20  \n",
       "Xiaomi Redmi A2 Dual-SIM 32GB ROM + 2GB RAM (On...            https://www.newegg.com/p/23B-00KF-00006  \n",
       "Xiaomi Redmi A1 Dual-SIM 32GB ROM + 2GB RAM (On...            https://www.newegg.com/p/23B-0016-00B74  \n",
       "Xiaomi Redmi A1 Dual-SIM 32GB ROM + 2GB RAM (On...            https://www.newegg.com/p/23B-0016-00B19  \n",
       "Xiaomi Redmi 10A Dual-SIM 32GB ROM + 2GB RAM (G...            https://www.newegg.com/p/23B-0016-00B55  \n",
       "Xiaomi Redmi A1 Dual-SIM 32GB ROM + 2GB RAM (On...            https://www.newegg.com/p/23B-0016-00B54  \n",
       "Xiaomi Redmi Note 7 Dual-SIM 64GB ROM + 4GB RAM...            https://www.newegg.com/p/23B-0016-008D3  \n",
       "Xiaomi Redmi 9T Dual-SIM 64GB ROM + 4GB RAM (GS...  https://www.newegg.com/xiaomi-6-53-gsm-hspa-lt...  \n",
       "Xiaomi Redmi 9C Dual-SIM 64GB ROM + 3GB RAM (GS...  https://www.newegg.com/xiaomi-6-53-gsm-hspa-lt...  \n",
       "Xiaomi Poco X5 Pro Dual-SIM 128GB ROM + 6GB RAM...  https://www.newegg.com/mi-poco-6-67-5g-black/p...  \n",
       "Xiaomi Redmi A1+ Dual-SIM 32GB ROM + 2GB RAM (O...            https://www.newegg.com/p/23B-0016-00BK3  \n",
       "Xiaomi Redmi A1+ Dual-SIM 32GB ROM + 2GB RAM (O...            https://www.newegg.com/p/23B-0016-00BK2  \n",
       "Xiaomi Redmi Note 12 Pro Dual-SIM 256GB ROM + 8...            https://www.newegg.com/p/23B-0016-00BW9  \n",
       "Xiaomi Redmi Note 12 Pro Dual-SIM 256GB ROM + 8...            https://www.newegg.com/p/23B-00KF-00033  \n",
       "Xiaomi Redmi Note 12 Pro Dual-SIM 256GB ROM + 8...            https://www.newegg.com/p/23B-0016-00BW8  \n",
       "Xiaomi Redmi Note 11 Pro Plus 6.67-inch 2400x10...            https://www.newegg.com/p/23B-0016-00A35  \n",
       "Xiaomi 13 Ultra Photography Kit By FedEx                      https://www.newegg.com/p/23B-0016-00BY6  "
      ]
     },
     "execution_count": 23,
     "metadata": {},
     "output_type": "execute_result"
    }
   ],
   "source": [
    "df_Under300"
   ]
  },
  {
   "cell_type": "code",
   "execution_count": 22,
   "id": "05271a7e",
   "metadata": {},
   "outputs": [
    {
     "name": "stdout",
     "output_type": "stream",
     "text": [
      "https://www.newegg.com/p/23B-0016-00A35\n"
     ]
    }
   ],
   "source": [
    "print(df_Under300.link[27])"
   ]
  }
 ],
 "metadata": {
  "kernelspec": {
   "display_name": "Python 3 (ipykernel)",
   "language": "python",
   "name": "python3"
  },
  "language_info": {
   "codemirror_mode": {
    "name": "ipython",
    "version": 3
   },
   "file_extension": ".py",
   "mimetype": "text/x-python",
   "name": "python",
   "nbconvert_exporter": "python",
   "pygments_lexer": "ipython3",
   "version": "3.9.13"
  }
 },
 "nbformat": 4,
 "nbformat_minor": 5
}
